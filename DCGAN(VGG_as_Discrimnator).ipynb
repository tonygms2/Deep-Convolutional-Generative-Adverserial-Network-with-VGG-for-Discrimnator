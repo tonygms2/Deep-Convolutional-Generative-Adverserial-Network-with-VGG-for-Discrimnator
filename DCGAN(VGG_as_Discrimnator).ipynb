{
  "nbformat": 4,
  "nbformat_minor": 0,
  "metadata": {
    "colab": {
      "name": "DCGAN(VGG as Discrimnator).ipynb",
      "provenance": [],
      "mount_file_id": "1niri4OgbMkUJkfajN328hDNt2oIppSAf",
      "authorship_tag": "ABX9TyO+kdBmRpmd1Nd2e5OP7SOV",
      "include_colab_link": true
    },
    "kernelspec": {
      "name": "python3",
      "display_name": "Python 3"
    },
    "language_info": {
      "name": "python"
    }
  },
  "cells": [
    {
      "cell_type": "markdown",
      "metadata": {
        "id": "view-in-github",
        "colab_type": "text"
      },
      "source": [
        "<a href=\"https://colab.research.google.com/github/tonygms2/Deep-Convolutional-Generative-Adverserial-Network-with-VGG-for-Discrimnator/blob/main/DCGAN(VGG_as_Discrimnator).ipynb\" target=\"_parent\"><img src=\"https://colab.research.google.com/assets/colab-badge.svg\" alt=\"Open In Colab\"/></a>"
      ]
    },
    {
      "cell_type": "code",
      "metadata": {
        "id": "gm9maNr59ImK"
      },
      "source": [
        "import torch\n",
        "from torch import nn\n",
        "import tqdm.notebook as tq\n",
        "from torchvision import transforms\n",
        "from torchvision.utils import make_grid\n",
        "from torch.utils.data import DataLoader\n",
        "import matplotlib.pyplot as plt\n",
        "import random\n",
        "from torchvision import datasets,transforms\n",
        "from torch.utils.tensorboard import SummaryWriter\n",
        "from torchsummary import summary"
      ],
      "execution_count": 1,
      "outputs": []
    },
    {
      "cell_type": "code",
      "metadata": {
        "id": "bQEXcusX-JNQ"
      },
      "source": [
        ""
      ],
      "execution_count": null,
      "outputs": []
    }
  ]
}